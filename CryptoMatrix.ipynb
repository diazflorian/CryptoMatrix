{
  "nbformat": 4,
  "nbformat_minor": 0,
  "metadata": {
    "colab": {
      "provenance": [],
      "authorship_tag": "ABX9TyPO+YgKxCWghWZ7b7fXqRSJ",
      "include_colab_link": true
    },
    "kernelspec": {
      "name": "python3",
      "display_name": "Python 3"
    },
    "language_info": {
      "name": "python"
    }
  },
  "cells": [
    {
      "cell_type": "markdown",
      "metadata": {
        "id": "view-in-github",
        "colab_type": "text"
      },
      "source": [
        "<a href=\"https://colab.research.google.com/github/diazflorian/CryptoMatrix/blob/main/CryptoMatrix.ipynb\" target=\"_parent\"><img src=\"https://colab.research.google.com/assets/colab-badge.svg\" alt=\"Open In Colab\"/></a>"
      ]
    },
    {
      "cell_type": "markdown",
      "source": [
        "#CryptoMatrix: análisis de las principales 50 cryptomonedas del 2015"
      ],
      "metadata": {
        "id": "0rUUlKpKrQSK"
      }
    },
    {
      "cell_type": "markdown",
      "source": [
        "##Objetivos"
      ],
      "metadata": {
        "id": "2c0bG60lruww"
      }
    },
    {
      "cell_type": "code",
      "execution_count": null,
      "metadata": {
        "id": "7gbBok68rK8i"
      },
      "outputs": [],
      "source": []
    }
  ]
}